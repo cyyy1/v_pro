{
 "cells": [
  {
   "cell_type": "code",
   "execution_count": 1,
   "metadata": {},
   "outputs": [
    {
     "data": {
      "application/javascript": [
       "\n",
       "require(['notebook/js/codecell'], function(codecell) {\n",
       "  codecell.CodeCell.options_default.highlight_modes[\n",
       "      'magic_text/x-csrc'] = {'reg':[/^%%microblaze/]};\n",
       "  Jupyter.notebook.events.one('kernel_ready.Kernel', function(){\n",
       "      Jupyter.notebook.get_cells().map(function(cell){\n",
       "          if (cell.cell_type == 'code'){ cell.auto_highlight(); } }) ;\n",
       "  });\n",
       "});\n"
      ]
     },
     "metadata": {},
     "output_type": "display_data"
    }
   ],
   "source": [
    "from driver import *\n",
    "from MNIST_LARGE_cfg import *\n",
    "from pynq import Overlay\n",
    "import numpy as np\n",
    "from pynq import Xlnk\n",
    "import time\n",
    "import cv2\n",
    "import matplotlib.pyplot as plt"
   ]
  },
  {
   "cell_type": "code",
   "execution_count": 2,
   "metadata": {},
   "outputs": [],
   "source": [
    "ol=Overlay(\"pool_stream.bit\")\n",
    "ol.download();\n",
    "dma=ol.axi_dma_0\n",
    "pool=ol.pool_0\n",
    "conv=ol.Conv_0"
   ]
  },
  {
   "cell_type": "code",
   "execution_count": 3,
   "metadata": {},
   "outputs": [],
   "source": [
    "xlnk=Xlnk()\n",
    "image=xlnk.cma_array(shape=(1,28,28,K),cacheable=0,dtype=np.int16)\n",
    "################# custom param #######################\n",
    "W_conv1=xlnk.cma_array(shape=(6,5,5,1,K),cacheable=0,dtype=np.int16)\n",
    "h_conv1=xlnk.cma_array(shape=(1,28,28,K),cacheable=0,dtype=np.int16)\n",
    "h_pool1=xlnk.cma_array(shape=(1,14,14,K),cacheable=0,dtype=np.int16)\n",
    "\n",
    "W_conv2=xlnk.cma_array(shape=(16,5,5,1,K),cacheable=0,dtype=np.int16)\n",
    "h_conv2=xlnk.cma_array(shape=(2,10,10,K),cacheable=0,dtype=np.int16)\n",
    "h_pool2=xlnk.cma_array(shape=(2,5,5,K),cacheable=0,dtype=np.int16)\n",
    "\n",
    "W_fc1=xlnk.cma_array(shape=(120,5,5,2,K),cacheable=0,dtype=np.int16)\n",
    "h_fc1=xlnk.cma_array(shape=(15,1,1,K),cacheable=0,dtype=np.int16)\n",
    "\n",
    "W_fc2=xlnk.cma_array(shape=(84,1,1,15,K),cacheable=0,dtype=np.int16)\n",
    "h_fc2=xlnk.cma_array(shape=(11,1,1,K),cacheable=0,dtype=np.int16)\n",
    "\n",
    "W_fc3=xlnk.cma_array(shape=(10,1,1,11,K),cacheable=0,dtype=np.int16)\n",
    "h_fc3=xlnk.cma_array(shape=(2,1,1,K),cacheable=0,dtype=np.int16)"
   ]
  },
  {
   "cell_type": "code",
   "execution_count": 4,
   "metadata": {},
   "outputs": [],
   "source": [
    "Load_Weight_From_File(W_conv1,\"record/W_conv1.bin\")\n",
    "Load_Weight_From_File(W_conv2,\"record/W_conv2.bin\")\n",
    "Load_Weight_From_File(W_fc1,\"record/W_fc1.bin\")\n",
    "Load_Weight_From_File(W_fc2,\"record/W_fc2.bin\")\n",
    "Load_Weight_From_File(W_fc3,\"record/W_fc3.bin\")"
   ]
  },
  {
   "cell_type": "code",
   "execution_count": 5,
   "metadata": {},
   "outputs": [
    {
     "data": {
      "image/png": "[encoded data removed]",
      "text/plain": [
       "<matplotlib.figure.Figure at 0xa3d05890>"
      ]
     },
     "metadata": {},
     "output_type": "display_data"
    }
   ],
   "source": [
    "test_pic=699\n",
    "img_gray=np.zeros((28,28))\n",
    "with open(\"MNIST_data/t10k-images.idx3-ubyte\",'rb') as fp:\n",
    "    dat=fp.read(16+28*28*test_pic)\n",
    "    for i in range(28):\n",
    "        for j in range(28):\n",
    "            dat=fp.read(1)\n",
    "            a=struct.unpack(\"B\",dat)\n",
    "            img_gray[i][j]=a[0]\n",
    "            #print(a[0])\n",
    "img_gray=img_gray.astype(np.uint8)\n",
    "#print(img_gray)\n",
    "# for i in range(28):\n",
    "#     for j in range(28):\n",
    "#         print(\"%4d\"%img_gray[i][j],end='')\n",
    "#     print('')\n",
    "plt.imshow(cv2.merge([img_gray,img_gray,img_gray]))\n",
    "plt.show()"
   ]
  },
  {
   "cell_type": "code",
   "execution_count": 6,
   "metadata": {},
   "outputs": [],
   "source": [
    "for i in range(np.shape(img_gray)[0]):\n",
    "    for j in range(np.shape(img_gray)[1]):\n",
    "        image[0][i][j][0]=int((img_gray[i][j]/255)*(2**PTR_IMG))"
   ]
  },
  {
   "cell_type": "code",
   "execution_count": 7,
   "metadata": {},
   "outputs": [
    {
     "name": "stdout",
     "output_type": "stream",
     "text": [
      "Hardware run time=0.023113489151000977 s\n"
     ]
    }
   ],
   "source": [
    "start=time.time()\n",
    "Run_Conv(conv,1,6,5,5,1,1,1,1,image,PTR_IMG,W_conv1,PTR_W_CONV1,h_conv1,PTR_H_CONV1)\n",
    "Run_Pool(pool,dma,6,2,2,h_conv1,h_pool1)\n",
    "Run_Conv(conv,6,16,5,5,1,1,0,1,h_pool1,PTR_H_POOL1,W_conv2,PTR_W_CONV2,h_conv2,PTR_H_CONV2)\n",
    "Run_Pool(pool,dma,16,2,2,h_conv2,h_pool2)\n",
    "\n",
    "Run_Conv(conv,16,120,5,5,1,1,0,1,h_pool2,PTR_H_POOL2,W_fc1,PTR_W_FC1,h_fc1,PTR_H_FC1)\n",
    "Run_Conv(conv,120,84,1,1,1,1,0,1,h_fc1,PTR_H_FC1,W_fc2,PTR_W_FC2,h_fc2,PTR_H_FC2)\n",
    "Run_Conv(conv,84,10,1,1,1,1,0,0,h_fc2,PTR_H_FC2,W_fc3,PTR_W_FC3,h_fc3,PTR_H_FC3)\n",
    "end=time.time()\n",
    "print(\"Hardware run time=%s s\"%(end-start))"
   ]
  },
  {
   "cell_type": "code",
   "execution_count": 8,
   "metadata": {},
   "outputs": [
    {
     "name": "stdout",
     "output_type": "stream",
     "text": [
      "predict num is 3\n"
     ]
    }
   ],
   "source": [
    "max=-32768\n",
    "num=0\n",
    "for i in range(10):\n",
    "    if(h_fc3[i//K][0][0][i%K]>max):\n",
    "        max=h_fc3[i//K][0][0][i%K]\n",
    "        num=i;\n",
    "print(\"predict num is %d\"%num);"
   ]
  },
  {
   "cell_type": "code",
   "execution_count": 6,
   "metadata": {},
   "outputs": [],
   "source": [
    "import mnist"
   ]
  },
  {
   "cell_type": "code",
   "execution_count": 7,
   "metadata": {},
   "outputs": [],
   "source": [
    "_,(x_test, y_test) = mnist.load_data()"
   ]
  },
  {
   "cell_type": "code",
   "execution_count": 12,
   "metadata": {},
   "outputs": [],
   "source": [
    "x_test = x_test / 255"
   ]
  },
  {
   "cell_type": "code",
   "execution_count": 18,
   "metadata": {},
   "outputs": [],
   "source": [
    "#image.shape = (1,28,28,8)\n",
    "image[0,:,:,0] = x_test[0]*(2**PTR_IMG)"
   ]
  },
  {
   "cell_type": "code",
   "execution_count": 19,
   "metadata": {},
   "outputs": [
    {
     "name": "stdout",
     "output_type": "stream",
     "text": [
      "Hardware run time=0.0027756690979003906 s\n"
     ]
    }
   ],
   "source": [
    "start=time.time()\n",
    "def hw_run(image):\n",
    "    Run_Conv(conv,1,6,5,5,1,1,1,1,image,PTR_IMG,W_conv1,PTR_W_CONV1,h_conv1,PTR_H_CONV1)\n",
    "    Run_Pool(pool,dma,6,2,2,h_conv1,h_pool1)\n",
    "    Run_Conv(conv,6,16,5,5,1,1,0,1,h_pool1,PTR_H_POOL1,W_conv2,PTR_W_CONV2,h_conv2,PTR_H_CONV2)\n",
    "    Run_Pool(pool,dma,16,2,2,h_conv2,h_pool2)\n",
    "\n",
    "    Run_Conv(conv,16,120,5,5,1,1,0,1,h_pool2,PTR_H_POOL2,W_fc1,PTR_W_FC1,h_fc1,PTR_H_FC1)\n",
    "    Run_Conv(conv,120,84,1,1,1,1,0,1,h_fc1,PTR_H_FC1,W_fc2,PTR_W_FC2,h_fc2,PTR_H_FC2)\n",
    "    Run_Conv(conv,84,10,1,1,1,1,0,0,h_fc2,PTR_H_FC2,W_fc3,PTR_W_FC3,h_fc3,PTR_H_FC3)\n",
    "end=time.time()\n",
    "print(\"Hardware run time=%s s\"%(end-start))"
   ]
  },
  {
   "cell_type": "code",
   "execution_count": 20,
   "metadata": {},
   "outputs": [
    {
     "name": "stdout",
     "output_type": "stream",
     "text": [
      "predict num is 3\n"
     ]
    }
   ],
   "source": [
    "max=-32768\n",
    "num=0\n",
    "for i in range(10):\n",
    "    if(h_fc3[i//K][0][0][i%K]>max):\n",
    "        max=h_fc3[i//K][0][0][i%K]\n",
    "        num=i;\n",
    "print(\"predict num is %d\"%num);"
   ]
  },
  {
   "cell_type": "code",
   "execution_count": 21,
   "metadata": {},
   "outputs": [],
   "source": [
    "def hw_run(image):\n",
    "    Run_Conv(conv,1,6,5,5,1,1,1,1,image,PTR_IMG,W_conv1,PTR_W_CONV1,h_conv1,PTR_H_CONV1)\n",
    "    Run_Pool(pool,dma,6,2,2,h_conv1,h_pool1)\n",
    "    Run_Conv(conv,6,16,5,5,1,1,0,1,h_pool1,PTR_H_POOL1,W_conv2,PTR_W_CONV2,h_conv2,PTR_H_CONV2)\n",
    "    Run_Pool(pool,dma,16,2,2,h_conv2,h_pool2)\n",
    "\n",
    "    Run_Conv(conv,16,120,5,5,1,1,0,1,h_pool2,PTR_H_POOL2,W_fc1,PTR_W_FC1,h_fc1,PTR_H_FC1)\n",
    "    Run_Conv(conv,120,84,1,1,1,1,0,1,h_fc1,PTR_H_FC1,W_fc2,PTR_W_FC2,h_fc2,PTR_H_FC2)\n",
    "    Run_Conv(conv,84,10,1,1,1,1,0,0,h_fc2,PTR_H_FC2,W_fc3,PTR_W_FC3,h_fc3,PTR_H_FC3)"
   ]
  },
  {
   "cell_type": "code",
   "execution_count": 17,
   "metadata": {},
   "outputs": [],
   "source": [
    "def compare(h_fc3, i):\n",
    "    max=-32768\n",
    "    num=0\n",
    "    for j in range(10):\n",
    "        #print(j)\n",
    "        if(h_fc3[j//K][0][0][j%K]>max):\n",
    "            max=h_fc3[j//K][0][0][j%K]\n",
    "            num=j\n",
    "    correct = 1 if num == y_test[i] else 0\n",
    "    return correct"
   ]
  },
  {
   "cell_type": "code",
   "execution_count": 26,
   "metadata": {},
   "outputs": [
    {
     "name": "stdout",
     "output_type": "stream",
     "text": [
      "total hardware run time=178.15291547775269 s\n",
      "total correct number=9915\n"
     ]
    }
   ],
   "source": [
    "total_time = 0\n",
    "correct = 0\n",
    "for i in range(0,10000):\n",
    "    image[0,:,:,0]=x_test[i]*(2**PTR_IMG)\n",
    "    start=time.time()\n",
    "    hw_run(image)\n",
    "    end=time.time()\n",
    "    tmp_time = end - start\n",
    "    total_time = total_time + tmp_time\n",
    "    correct = correct + compare(h_fc3, i)\n",
    "print(\"total hardware run time=%s s\"%(total_time))\n",
    "print(\"correct number=%d\"%correct)"
   ]
  },
  {
   "cell_type": "code",
   "execution_count": 28,
   "metadata": {},
   "outputs": [],
   "source": [
    "def sw_run(image):\n",
    "    Run_Conv_Soft(1,6,5,5,1,1,1,1,image,PTR_IMG,W_conv1,PTR_W_CONV1,h_conv1,PTR_H_CONV1)\n",
    "    Run_Pool_Soft(6,2,2,h_conv1,h_pool1)\n",
    "    Run_Conv_Soft(6,16,5,5,1,1,0,1,h_pool1,PTR_H_POOL1,W_conv2,PTR_W_CONV2,h_conv2,PTR_H_CONV2)\n",
    "    Run_Pool_Soft(16,2,2,h_conv2,h_pool2)\n",
    "\n",
    "    Run_Conv_Soft(16,120,5,5,1,1,0,1,h_pool2,PTR_H_POOL2,W_fc1,PTR_W_FC1,h_fc1,PTR_H_FC1)\n",
    "    Run_Conv_Soft(120,84,1,1,1,1,0,1,h_fc1,PTR_H_FC1,W_fc2,PTR_W_FC2,h_fc2,PTR_H_FC2)\n",
    "    Run_Conv_Soft(84,10,1,1,1,1,0,0,h_fc2,PTR_H_FC2,W_fc3,PTR_W_FC3,h_fc3,PTR_H_FC3)"
   ]
  },
  {
   "cell_type": "code",
   "execution_count": 30,
   "metadata": {},
   "outputs": [
    {
     "name": "stdout",
     "output_type": "stream",
     "text": [
      "1 img hardware run time=78.70123338699341 s\n",
      "1 img correct number=1\n"
     ]
    }
   ],
   "source": [
    "total_time = 0\n",
    "correct = 0\n",
    "for i in range(0,1):\n",
    "    image[0,:,:,0]=x_test[i]*(2**PTR_IMG)\n",
    "    start=time.time()\n",
    "    sw_run(image)\n",
    "    end=time.time()\n",
    "    tmp_time = end - start\n",
    "    total_time = total_time + tmp_time\n",
    "    correct = correct + compare(h_fc3, i)\n",
    "print(\"1 img software run time=%s s\"%(total_time))\n",
    "print(\"1 img correct number=%d\"%correct)"
   ]
  },
  {
   "cell_type": "code",
   "execution_count": 32,
   "metadata": {},
   "outputs": [
    {
     "name": "stdout",
     "output_type": "stream",
     "text": [
      "1 img hardware run time=0.026935100555419922 s\n",
      "1 img correct number=1\n"
     ]
    }
   ],
   "source": [
    "total_time = 0\n",
    "correct = 0\n",
    "for i in range(0,1):\n",
    "    image[0,:,:,0]=x_test[i]*(2**PTR_IMG)\n",
    "    start=time.time()\n",
    "    hw_run(image)\n",
    "    end=time.time()\n",
    "    tmp_time = end - start\n",
    "    total_time = total_time + tmp_time\n",
    "    correct = correct + compare(h_fc3, i)\n",
    "print(\"1 img hardware run time=%s s\"%(total_time))\n",
    "print(\"1 img correct number=%d\"%correct)"
   ]
  },
  {
   "cell_type": "code",
   "execution_count": 43,
   "metadata": {},
   "outputs": [],
   "source": [
    "import random"
   ]
  },
  {
   "cell_type": "code",
   "execution_count": 50,
   "metadata": {},
   "outputs": [
    {
     "name": "stdout",
     "output_type": "stream",
     "text": [
      "10 img hardware run time=0.1803758144378662 s\n",
      "10 img correct number=10\n"
     ]
    }
   ],
   "source": [
    "random.seed(202007061314)\n",
    "idx = random.randint(0,19990)\n",
    "total_time = 0\n",
    "correct = 0\n",
    "for i in range(idx,idx+10):\n",
    "    image[0,:,:,0]=x_test[i]*(2**PTR_IMG)\n",
    "    start=time.time()\n",
    "    hw_run(image)\n",
    "    end=time.time()\n",
    "    tmp_time = end - start\n",
    "    total_time = total_time + tmp_time\n",
    "    correct = correct + compare(h_fc3, i)\n",
    "print(\"10 img hardware run time=%s s\"%(total_time))\n",
    "print(\"10 img correct number=%d\"%correct)"
   ]
  },
  {
   "cell_type": "code",
   "execution_count": 51,
   "metadata": {},
   "outputs": [
    {
     "name": "stdout",
     "output_type": "stream",
     "text": [
      "10 img software run time=788.3569822311401 s\n",
      "10 img correct number=8\n"
     ]
    }
   ],
   "source": [
    "random.seed(202007061314)\n",
    "idx = random.randint(0,19990)\n",
    "total_time = 0\n",
    "correct = 0\n",
    "for i in range(idx,idx+10):\n",
    "    image[0,:,:,0]=x_test[i]*(2**PTR_IMG)\n",
    "    start=time.time()\n",
    "    sw_run(image)\n",
    "    end=time.time()\n",
    "    tmp_time = end - start\n",
    "    total_time = total_time + tmp_time\n",
    "    correct = correct + compare(h_fc3, i)\n",
    "print(\"10 img software run time=%s s\"%(total_time))\n",
    "print(\"10 img correct number=%d\"%correct)"
   ]
  }
 ],
 "metadata": {
  "kernelspec": {
   "display_name": "Python 3",
   "language": "python",
   "name": "python3"
  },
  "language_info": {
   "codemirror_mode": {
    "name": "ipython",
    "version": 3
   },
   "file_extension": ".py",
   "mimetype": "text/x-python",
   "name": "python",
   "nbconvert_exporter": "python",
   "pygments_lexer": "ipython3",
   "version": "3.6.5"
  }
 },
 "nbformat": 4,
 "nbformat_minor": 2
}
