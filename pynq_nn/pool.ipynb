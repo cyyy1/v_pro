{
 "cells": [
  {
   "cell_type": "code",
   "execution_count": 1,
   "metadata": {},
   "outputs": [
    {
     "data": {
      "application/javascript": [
       "\n",
       "require(['notebook/js/codecell'], function(codecell) {\n",
       "  codecell.CodeCell.options_default.highlight_modes[\n",
       "      'magic_text/x-csrc'] = {'reg':[/^%%microblaze/]};\n",
       "  Jupyter.notebook.events.one('kernel_ready.Kernel', function(){\n",
       "      Jupyter.notebook.get_cells().map(function(cell){\n",
       "          if (cell.cell_type == 'code'){ cell.auto_highlight(); } }) ;\n",
       "  });\n",
       "});\n"
      ]
     },
     "metadata": {},
     "output_type": "display_data"
    }
   ],
   "source": [
    "from pynq import Overlay\n",
    "import numpy as np\n",
    "from pynq import Xlnk\n",
    "import time\n",
    "import random"
   ]
  },
  {
   "cell_type": "code",
   "execution_count": 2,
   "metadata": {},
   "outputs": [
    {
     "name": "stdout",
     "output_type": "stream",
     "text": [
      "dict_keys(['axi_dma_0', 'pool_0', 'Conv_0'])\n"
     ]
    }
   ],
   "source": [
    "K=8\n",
    "\n",
    "channel=32\n",
    "width_in=28\n",
    "height_in=28\n",
    "Kx=4\n",
    "Ky=4\n",
    "width_out=int(width_in/Kx)\n",
    "height_out=int(height_in/Ky)\n",
    "\n",
    "xlnk=Xlnk()\n",
    "ol=Overlay(\"cnn4.bit\")\n",
    "ol.download();\n",
    "print(ol.ip_dict.keys())"
   ]
  },
  {
   "cell_type": "code",
   "execution_count": 3,
   "metadata": {},
   "outputs": [
    {
     "name": "stdout",
     "output_type": "stream",
     "text": [
      "50176\n",
      "3136\n"
     ]
    }
   ],
   "source": [
    "input_buffer=xlnk.cma_array(shape=((channel+K-1)//K,height_in,width_in,K),cacheable=0,dtype=np.int16)\n",
    "output_buffer=xlnk.cma_array(shape=((channel+K-1)//K,height_out,width_out,K),cacheable=0,dtype=np.int16)\n",
    "output_buffer_soft=xlnk.cma_array(shape=((channel+K-1)//K,height_out,width_out,K),cacheable=0,dtype=np.int16)\n",
    "\n",
    "print(input_buffer.nbytes);\n",
    "print(output_buffer.nbytes);\n",
    "\n",
    "for i in range(input_buffer.shape[0]):\n",
    "    for j in range(input_buffer.shape[1]):\n",
    "        for k in range(input_buffer.shape[2]):\n",
    "            for l in range(input_buffer.shape[3]):\n",
    "                input_buffer[i][j][k][l]=random.randint(-2000,2000);\n",
    "\n",
    "# for j in range(input_buffer.shape[1]):\n",
    "#     for k in range(input_buffer.shape[2]):\n",
    "#         print(input_buffer[0][j][k][0],end=' ');\n",
    "#     print(' ')\n",
    "    \n",
    "for i in range(output_buffer.shape[0]):\n",
    "    for j in range(output_buffer.shape[1]):\n",
    "        for k in range(output_buffer.shape[2]):\n",
    "            for l in range(output_buffer.shape[3]):\n",
    "                output_buffer[i][j][k][l]=0;\n",
    "                output_buffer_soft[i][j][k][l]=0;\n",
    "    \n",
    "dma=ol.axi_dma_0\n",
    "pool=ol.pool_0"
   ]
  },
  {
   "cell_type": "code",
   "execution_count": 4,
   "metadata": {},
   "outputs": [],
   "source": [
    "def Run_Pool(ch,kx,ky,feature_in,feature_out):\n",
    "    pool.write(0x10,(ch+K-1)//K);\n",
    "    pool.write(0x18,feature_in.shape[1])\n",
    "    pool.write(0x20,feature_in.shape[2])\n",
    "    pool.write(0x28,feature_out.shape[1])\n",
    "    pool.write(0x30,feature_out.shape[2])\n",
    "    pool.write(0x38,kx)\n",
    "    pool.write(0x40,ky)\n",
    "    print(\"start\");\n",
    "    pool.write(0, (pool.read(0)&0x80)|0x01 ) #start pool IP\n",
    "    dma.recvchannel.transfer(feature_out)\n",
    "    dma.sendchannel.transfer(feature_in)\n",
    "    dma.sendchannel.wait();\n",
    "    print(\"send done\")\n",
    "    dma.recvchannel.wait()\n",
    "    print(\"recv done\")\n",
    "    tp=pool.read(0)\n",
    "    while not((tp>>1)&0x1):\n",
    "        tp=pool.read(0)\n",
    "    print(\"pool ip done\")"
   ]
  },
  {
   "cell_type": "code",
   "execution_count": 5,
   "metadata": {},
   "outputs": [
    {
     "name": "stdout",
     "output_type": "stream",
     "text": [
      "start\n",
      "send done\n",
      "recv done\n",
      "pool ip done\n",
      "hardware run time=0.007727861404418945 s\n"
     ]
    }
   ],
   "source": [
    "starttime=time.time()\n",
    "Run_Pool(channel,Kx,Ky,input_buffer,output_buffer)\n",
    "endtime=time.time()\n",
    "print(\"hardware run time=%s s\"%(endtime-starttime))"
   ]
  },
  {
   "cell_type": "code",
   "execution_count": 6,
   "metadata": {},
   "outputs": [],
   "source": [
    "def Run_Pool_Soft(ch,kx,ky,feature_in,feature_out):\n",
    "    for i in range(ch):\n",
    "        for j in range(feature_out.shape[1]):\n",
    "            for k in range(feature_out.shape[2]):\n",
    "                tp=-32768;\n",
    "                for ii in range(ky):\n",
    "                    for jj in range(kx):\n",
    "                        row=j*kx+ii\n",
    "                        col=k*ky+jj\n",
    "                        dat=feature_in[i//K][row][col][i%K]\n",
    "                        if(dat>tp):\n",
    "                            tp=dat\n",
    "                feature_out[i//K][j][k][i%K]=tp"
   ]
  },
  {
   "cell_type": "code",
   "execution_count": 7,
   "metadata": {},
   "outputs": [
    {
     "name": "stdout",
     "output_type": "stream",
     "text": [
      "software run time=1.9829072952270508 s\n"
     ]
    }
   ],
   "source": [
    "starttime=time.time()\n",
    "Run_Pool_Soft(channel,Kx,Ky,input_buffer,output_buffer_soft)\n",
    "endtime=time.time()\n",
    "print(\"software run time=%s s\"%(endtime-starttime))"
   ]
  },
  {
   "cell_type": "code",
   "execution_count": 8,
   "metadata": {},
   "outputs": [
    {
     "name": "stdout",
     "output_type": "stream",
     "text": [
      "============================\n",
      "   result_match\n",
      "============================\n",
      "\n"
     ]
    }
   ],
   "source": [
    "flag=1\n",
    "for i in range(output_buffer.shape[0]):\n",
    "    for j in range(output_buffer.shape[1]):\n",
    "        for k in range(output_buffer.shape[2]):\n",
    "            for l in range(output_buffer.shape[3]):\n",
    "                if(output_buffer[i][j][k][l]!=output_buffer_soft[i][j][k][l]):\n",
    "                    flag=0;\n",
    "                    print(\"output_buffer    [%d][%d][%d][%d] = %d\"%(i,j,k,l,output_buffer[i][j][k][l]));\n",
    "                    print(\"output_buffer_soft  [%d][%d][%d][%d] = %d\"%(i,j,k,l,output_buffer_soft[i][j][k][l]));\n",
    "                    \n",
    "if(flag==1):\n",
    "    print(\"============================\\n   result_match\\n============================\\n\");\n",
    "else:\n",
    "    print(\"============================\\n   result_mismatch\\n============================\\n\");\n"
   ]
  },
  {
   "cell_type": "code",
   "execution_count": 13,
   "metadata": {},
   "outputs": [],
   "source": [
    "K=8\n",
    "\n",
    "in_width=40\n",
    "in_height=40\n",
    "in_channel=8\n",
    "\n",
    "Kx=5\n",
    "Ky=5\n",
    "Sx=2\n",
    "Sy=2\n",
    "\n",
    "RELU_EN=0\n",
    "MODE=0 #0: valid, 1:same\n",
    "\n",
    "X_PADDING=(Kx-1)//2 if MODE==1 else 0;\n",
    "Y_PADDING=(Ky-1)//2 if MODE==1 else 0;\n",
    "\n",
    "out_channel=6\n",
    "out_width=(in_width+2*X_PADDING-Kx)//Sx+1\n",
    "out_height=(in_height+2*Y_PADDING-Ky)//Sy+1\n",
    "conv=ol.Conv_0\n",
    "\n",
    "dat_in=xlnk.cma_array(shape=((in_channel+K-1)//K,in_height,in_width,K),cacheable=0,dtype=np.int16)\n",
    "wt=xlnk.cma_array(shape=(out_channel,Ky,Kx,(in_channel+K-1)//K,K),cacheable=0,dtype=np.int16)\n",
    "dat_out=xlnk.cma_array(shape=((out_channel+K-1)//K,out_height,out_width,K),cacheable=0,dtype=np.int16)\n",
    "dat_out_soft=xlnk.cma_array(shape=((out_channel+K-1)//K,out_height,out_width,K),cacheable=0,dtype=np.int16)\n",
    "\n",
    "for i in range(dat_in.shape[0]):\n",
    "    for j in range(dat_in.shape[1]):\n",
    "        for k in range(dat_in.shape[2]):\n",
    "            for l in range(dat_in.shape[3]):\n",
    "                if(i*K+l<in_channel):\n",
    "                    dat_in[i][j][k][l]=random.randint(-1000,1000) #(j*dat_in.shape[2]+k);\n",
    "                \n",
    "for i in range(wt.shape[0]):\n",
    "    for j in range(wt.shape[1]):\n",
    "        for k in range(wt.shape[2]):\n",
    "            for l in range(wt.shape[3]):\n",
    "                for m in range(wt.shape[4]):\n",
    "                    wt[i][j][k][l][m]=random.randint(-1000,1000) #j*Kx+k;# if(m==0) else 0;#j*Kx+k;\n",
    "\n",
    "def Run_Conv(chin,chout,kx,ky,sx,sy,mode,relu_en,feature_in,feature_in_precision,weight,weight_precision,feature_out,feature_out_precision):\n",
    "    conv.write(0x10,chin)\n",
    "    conv.write(0x18,feature_in.shape[1])\n",
    "    conv.write(0x20,feature_in.shape[2])\n",
    "    conv.write(0x28,chout)\n",
    "    conv.write(0x30,kx)\n",
    "    conv.write(0x38,ky)\n",
    "    conv.write(0x40,sx)\n",
    "    conv.write(0x48,sy)\n",
    "    conv.write(0x50,mode)\n",
    "    conv.write(0x58,relu_en)\n",
    "    conv.write(0x60,feature_in.physical_address)\n",
    "    conv.write(0x68,feature_in_precision)\n",
    "    conv.write(0x70,weight.physical_address)\n",
    "    conv.write(0x78,weight_precision)\n",
    "    conv.write(0x80,feature_out.physical_address)\n",
    "    conv.write(0x88,feature_out_precision)\n",
    "    #print(\"conv ip start\")\n",
    "    starttime=time.time()\n",
    "    conv.write(0, (conv.read(0)&0x80)|0x01 ) #start pool IP\n",
    "    #poll the done bit\n",
    "    tp=conv.read(0)\n",
    "    while not((tp>>1)&0x1):\n",
    "        tp=conv.read(0)\n",
    "    #print(\"conv ip done\")\n",
    "    endtime=time.time()\n",
    "    print(\"Hardware run time=%s s\"%(endtime-starttime))\n",
    "    \n",
    "def Run_Conv_Soft(chin,chout,kx,ky,sx,sy,mode,relu_en,feature_in,feature_in_precision,weight,weight_precision,feature_out,feature_out_precision):\n",
    "    if(mode==0):\n",
    "        pad_x=0\n",
    "        pad_y=0\n",
    "    else:\n",
    "        pad_x=(kx-1)//2\n",
    "        pad_y=(ky-1)//2       \n",
    "    for i in range(chout):\n",
    "        for j in range(feature_out.shape[1]):\n",
    "            for k in range(feature_out.shape[2]):\n",
    "                sum=np.int64(0)\n",
    "                for c in range(chin):\n",
    "                    for ii in range(ky):\n",
    "                        for jj in range(kx):\n",
    "                            row=j*sy-pad_y+ii\n",
    "                            col=k*sx-pad_x+jj\n",
    "                            if not (row<0 or col<0 or row>=feature_in.shape[1] or col>=feature_in.shape[2]):\n",
    "                                dat=feature_in[c//K][row][col][c%K]\n",
    "                                wt=weight[i][ii][jj][c//K][c%K]\n",
    "                                #print(\"%d %d=%d, wt=%d \"%(row,col,dat,wt))\n",
    "                                sum=sum+int(dat)*int(wt)\n",
    "                res=sum>>(feature_in_precision+weight_precision-feature_out_precision)\n",
    "                if(res>32767):\n",
    "                    res=32767\n",
    "                else:\n",
    "                    if(res<-32768):\n",
    "                        res=32768\n",
    "                feature_out[i//K][j][k][i%K]=res"
   ]
  },
  {
   "cell_type": "code",
   "execution_count": 11,
   "metadata": {},
   "outputs": [
    {
     "name": "stdout",
     "output_type": "stream",
     "text": [
      "Hardware run time=0.003952980041503906 s\n",
      "hardware run time=0.010764598846435547 s\n"
     ]
    }
   ],
   "source": []
  },
  {
   "cell_type": "code",
   "execution_count": 12,
   "metadata": {},
   "outputs": [
    {
     "name": "stdout",
     "output_type": "stream",
     "text": [
      "Software run time=70.18477535247803 s\n"
     ]
    }
   ],
   "source": [
    "\n",
    "starttime=time.time()\n",
    "Run_Conv_Soft(in_channel,out_channel,Kx,Ky,Sx,Sy,MODE,RELU_EN,dat_in,5,wt,0,dat_out_soft,0);\n",
    "endtime=time.time()\n",
    "print(\"Software run time=%s s\"%(endtime-starttime))\n"
   ]
  },
  {
   "cell_type": "code",
   "execution_count": 14,
   "metadata": {},
   "outputs": [
    {
     "name": "stdout",
     "output_type": "stream",
     "text": [
      "Hardware run time=0.003979682922363281 s\n"
     ]
    }
   ],
   "source": [
    "Run_Conv(in_channel,out_channel,Kx,Ky,Sx,Sy,MODE,RELU_EN,dat_in,5,wt,0,dat_out,0);"
   ]
  },
  {
   "cell_type": "code",
   "execution_count": 15,
   "metadata": {},
   "outputs": [
    {
     "name": "stdout",
     "output_type": "stream",
     "text": [
      "Hardware run time=0.003978252410888672 s\n"
     ]
    }
   ],
   "source": [
    "Run_Conv(in_channel,out_channel,Kx,Ky,Sx,Sy,MODE,RELU_EN,dat_in,5,wt,0,dat_out,0);"
   ]
  },
  {
   "cell_type": "code",
   "execution_count": 16,
   "metadata": {},
   "outputs": [
    {
     "name": "stdout",
     "output_type": "stream",
     "text": [
      "Hardware run time=0.004061460494995117 s\n"
     ]
    }
   ],
   "source": [
    "Run_Conv(in_channel,out_channel,Kx,Ky,Sx,Sy,MODE,RELU_EN,dat_in,5,wt,0,dat_out,0);"
   ]
  },
  {
   "cell_type": "code",
   "execution_count": 17,
   "metadata": {},
   "outputs": [
    {
     "name": "stdout",
     "output_type": "stream",
     "text": [
      "Hardware run time=0.003998279571533203 s\n"
     ]
    }
   ],
   "source": [
    "Run_Conv(in_channel,out_channel,Kx,Ky,Sx,Sy,MODE,RELU_EN,dat_in,5,wt,0,dat_out,0);"
   ]
  },
  {
   "cell_type": "code",
   "execution_count": 18,
   "metadata": {},
   "outputs": [
    {
     "name": "stdout",
     "output_type": "stream",
     "text": [
      "Hardware run time=0.003981590270996094 s\n"
     ]
    }
   ],
   "source": [
    "Run_Conv(in_channel,out_channel,Kx,Ky,Sx,Sy,MODE,RELU_EN,dat_in,5,wt,0,dat_out,0);"
   ]
  },
  {
   "cell_type": "code",
   "execution_count": null,
   "metadata": {},
   "outputs": [],
   "source": []
  }
 ],
 "metadata": {
  "kernelspec": {
   "display_name": "Python 3",
   "language": "python",
   "name": "python3"
  },
  "language_info": {
   "codemirror_mode": {
    "name": "ipython",
    "version": 3
   },
   "file_extension": ".py",
   "mimetype": "text/x-python",
   "name": "python",
   "nbconvert_exporter": "python",
   "pygments_lexer": "ipython3",
   "version": "3.6.5"
  }
 },
 "nbformat": 4,
 "nbformat_minor": 2
}
