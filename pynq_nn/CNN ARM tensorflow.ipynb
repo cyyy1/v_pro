{
 "cells": [
  {
   "cell_type": "code",
   "execution_count": 1,
   "metadata": {},
   "outputs": [],
   "source": [
    "import tensorflow as tf\n",
    "import numpy as np\n",
    "import time"
   ]
  },
  {
   "cell_type": "code",
   "execution_count": 2,
   "metadata": {},
   "outputs": [],
   "source": [
    "from tensorflow.examples.tutorials.mnist import input_data"
   ]
  },
  {
   "cell_type": "code",
   "execution_count": 3,
   "metadata": {},
   "outputs": [
    {
     "name": "stdout",
     "output_type": "stream",
     "text": [
      "Extracting MNIST_data/train-images-idx3-ubyte.gz\n",
      "Extracting MNIST_data/train-labels-idx1-ubyte.gz\n",
      "Extracting MNIST_data/t10k-images-idx3-ubyte.gz\n",
      "Extracting MNIST_data/t10k-labels-idx1-ubyte.gz\n"
     ]
    }
   ],
   "source": [
    "mnist = input_data.read_data_sets('MNIST_data', one_hot=True)"
   ]
  },
  {
   "cell_type": "code",
   "execution_count": 4,
   "metadata": {},
   "outputs": [],
   "source": [
    "with tf.name_scope('input'):\n",
    "\tx = tf.placeholder(\"float\", shape=[None, 784])\n",
    "\ty_ = tf.placeholder(\"float\", shape=[None, 10])\n",
    "\n",
    "def weight_variable(shape):\n",
    "\tinitial = tf.truncated_normal(shape, stddev=0.1);\n",
    "\treturn tf.Variable(initial)\n",
    "\n",
    "def conv2d(x, W, padding):\n",
    "\treturn tf.nn.conv2d(x, W, strides=[1, 1, 1, 1], padding=padding)\n",
    "\n",
    "def max_pool_2x2(x):\n",
    "\treturn tf.nn.max_pool(x, ksize=[1, 2, 2, 1], strides=[1, 2, 2,1], padding='SAME')\n",
    "\n",
    "#First Convolutional Layer\n",
    "with tf.name_scope('1st_CNN'):\n",
    "\tW_conv1 = weight_variable([5, 5, 1, 6])\n",
    "\tx_image = tf.reshape(x, [-1,28,28,1])\n",
    "\th_conv1 = tf.nn.relu(conv2d(x_image, W_conv1, padding='SAME')) #[28,28,32]\n",
    "\th_pool1 = max_pool_2x2(h_conv1) #[14,14,6]\n",
    "\n",
    "#Second Convolutional Layer\n",
    "with tf.name_scope('2rd_CNN'):\n",
    "\tW_conv2 = weight_variable([5, 5, 6, 16])\n",
    "\th_conv2 = tf.nn.relu(conv2d(h_pool1, W_conv2, padding='VALID')) #[10,10,16]\n",
    "\th_pool2 = max_pool_2x2(h_conv2) #[5,5,16]\n",
    "\n",
    "#First Densely Connected Layer\n",
    "with tf.name_scope('Densely_NN1'):\n",
    "\tW_fc1 = weight_variable([ 5* 5* 16, 120])\n",
    "\th_pool2_flat = tf.reshape(h_pool2, [-1, 5* 5* 16])\n",
    "\th_fc1= tf.nn.relu(tf.matmul(h_pool2_flat , W_fc1)) # [120]\n",
    "\n",
    "#Second Densely Connected Layer\n",
    "with tf.name_scope('Densely_NN2'):\n",
    "\tW_fc2 = weight_variable([ 120, 84])\n",
    "\th_fc2= tf.nn.relu(tf.matmul(h_fc1 , W_fc2)) # [120]\n",
    "\n",
    "#Readout Layer\n",
    "with tf.name_scope('Softmax'):\n",
    "\tW_fc3 = weight_variable([84, 10])\n",
    "\t#h_fc2 = tf.matmul(h_fc1_drop, W_fc2)\n",
    "\th_fc3 = tf.matmul(h_fc2, W_fc3)\n",
    "\ty_conv=tf.nn.softmax(h_fc3)\n",
    "\n",
    "with tf.name_scope('Loss'):\n",
    "\tcross_entropy = -tf.reduce_sum(y_*tf.log(y_conv))\n",
    "\n",
    "with tf.name_scope('Train'):\n",
    "\ttrain_step = tf.train.AdamOptimizer(1e-4).minimize(cross_entropy)\n",
    "\t#train_step = tf.train.AdamOptimizer(5e-5).minimize(cross_entropy)\n",
    "\n",
    "with tf.name_scope('Accuracy'):\n",
    "\tcorrect_prediction = tf.equal(tf.argmax(y_conv ,1), tf.argmax(y_,1))\n",
    "\taccuracy = tf.reduce_mean(tf.cast(correct_prediction , \"float\"))"
   ]
  },
  {
   "cell_type": "code",
   "execution_count": 5,
   "metadata": {},
   "outputs": [],
   "source": [
    "sess = tf.InteractiveSession()\n",
    "sess.run(tf.global_variables_initializer())\n",
    "lista = [W_conv1, W_conv2, W_fc1, W_fc2, W_fc3]\n",
    "listw = []"
   ]
  },
  {
   "cell_type": "code",
   "execution_count": 6,
   "metadata": {},
   "outputs": [],
   "source": [
    "for i in range(5):\n",
    "    exec('w{}=np.load(\"tfweight{}.npy\")'.format(i,i))\n",
    "    exec('listw.append(w{})'.format(i))"
   ]
  },
  {
   "cell_type": "code",
   "execution_count": 7,
   "metadata": {},
   "outputs": [],
   "source": [
    "for (a,w) in zip(lista, listw):\n",
    "    sess.run(tf.assign(a,w))"
   ]
  },
  {
   "cell_type": "code",
   "execution_count": 8,
   "metadata": {},
   "outputs": [
    {
     "data": {
      "text/plain": [
       "(10000, 784)"
      ]
     },
     "execution_count": 8,
     "metadata": {},
     "output_type": "execute_result"
    }
   ],
   "source": [
    "mnist.test.images.shape"
   ]
  },
  {
   "cell_type": "code",
   "execution_count": 9,
   "metadata": {},
   "outputs": [
    {
     "data": {
      "text/plain": [
       "(10000, 10)"
      ]
     },
     "execution_count": 9,
     "metadata": {},
     "output_type": "execute_result"
    }
   ],
   "source": [
    "mnist.test.labels.shape"
   ]
  },
  {
   "cell_type": "code",
   "execution_count": 10,
   "metadata": {},
   "outputs": [
    {
     "name": "stdout",
     "output_type": "stream",
     "text": [
      "1.0\n",
      "run time=0.15305829048156738 s\n"
     ]
    }
   ],
   "source": [
    "starttime=time.time()\n",
    "acc = accuracy.eval(feed_dict={x: mnist.test.images[200:201,:], y_: mnist.test.labels[200:201,:]})\n",
    "#print(\"test accuracy %g\"%accuracy.eval(feed_dict={x: mnist.test.images[200:201,:], y_: mnist.test.labels[200:201,:]}))\n",
    "endtime=time.time()\n",
    "print(acc)\n",
    "print(\"run time=%s s\"%(endtime-starttime))"
   ]
  },
  {
   "cell_type": "code",
   "execution_count": 11,
   "metadata": {},
   "outputs": [
    {
     "name": "stdout",
     "output_type": "stream",
     "text": [
      "total tensorflow run time=72.68461990356445 s\n",
      "correct number=9915\n"
     ]
    }
   ],
   "source": [
    "total_time = 0\n",
    "correct = 0\n",
    "for i in range(10000):\n",
    "    starttime=time.time()\n",
    "    acc = accuracy.eval(feed_dict={x: mnist.test.images[i:i+1,:], y_: mnist.test.labels[i:i+1,:]})\n",
    "    endtime=time.time()\n",
    "    tmp_time = endtime - starttime\n",
    "    total_time = total_time + tmp_time\n",
    "    correct = correct + acc\n",
    "print(\"total tensorflow run time=%s s\"%(total_time))\n",
    "print(\"correct number=%d\"%correct)"
   ]
  },
  {
   "cell_type": "code",
   "execution_count": 13,
   "metadata": {},
   "outputs": [
    {
     "name": "stdout",
     "output_type": "stream",
     "text": [
      "once tensorflow run time=51.476648807525635 s\n",
      "correct number=9915\n"
     ]
    }
   ],
   "source": [
    "total_time = 0\n",
    "correct = 0\n",
    "for i in range(2):\n",
    "    starttime=time.time()\n",
    "    acc = accuracy.eval(feed_dict={x: mnist.test.images[i*5000:(i+1)*5000,:], y_: mnist.test.labels[i*5000:(i+1)*5000,:]})\n",
    "    endtime=time.time()\n",
    "    tmp_time = endtime - starttime\n",
    "    total_time = total_time + tmp_time\n",
    "    correct = correct + acc*5000\n",
    "print(\"once tensorflow run time=%s s\"%(total_time))\n",
    "print(\"correct number=%d\"%correct)"
   ]
  },
  {
   "cell_type": "code",
   "execution_count": null,
   "metadata": {},
   "outputs": [],
   "source": []
  }
 ],
 "metadata": {
  "kernelspec": {
   "display_name": "Python 3",
   "language": "python",
   "name": "python3"
  },
  "language_info": {
   "codemirror_mode": {
    "name": "ipython",
    "version": 3
   },
   "file_extension": ".py",
   "mimetype": "text/x-python",
   "name": "python",
   "nbconvert_exporter": "python",
   "pygments_lexer": "ipython3",
   "version": "3.6.5"
  }
 },
 "nbformat": 4,
 "nbformat_minor": 2
}
