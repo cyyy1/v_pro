{
 "cells": [
  {
   "cell_type": "code",
   "execution_count": 1,
   "metadata": {},
   "outputs": [
    {
     "name": "stderr",
     "output_type": "stream",
     "text": [
      "Using TensorFlow backend.\n"
     ]
    }
   ],
   "source": [
    "from keras.models import Model, load_model\n",
    "#from keras.datasets import mnist\n",
    "import keras\n",
    "import mnist\n",
    "import time"
   ]
  },
  {
   "cell_type": "code",
   "execution_count": 2,
   "metadata": {},
   "outputs": [
    {
     "name": "stdout",
     "output_type": "stream",
     "text": [
      "_________________________________________________________________\n",
      "Layer (type)                 Output Shape              Param #   \n",
      "=================================================================\n",
      "conv2d_1 (Conv2D)            (None, 28, 28, 6)         150       \n",
      "_________________________________________________________________\n",
      "max_pooling2d_1 (MaxPooling2 (None, 14, 14, 6)         0         \n",
      "_________________________________________________________________\n",
      "conv2d_2 (Conv2D)            (None, 10, 10, 16)        2400      \n",
      "_________________________________________________________________\n",
      "max_pooling2d_2 (MaxPooling2 (None, 5, 5, 16)          0         \n",
      "_________________________________________________________________\n",
      "flatten_1 (Flatten)          (None, 400)               0         \n",
      "_________________________________________________________________\n",
      "dense_1 (Dense)              (None, 120)               48000     \n",
      "_________________________________________________________________\n",
      "dense_2 (Dense)              (None, 84)                10080     \n",
      "_________________________________________________________________\n",
      "dense_3 (Dense)              (None, 10)                840       \n",
      "=================================================================\n",
      "Total params: 61,470\n",
      "Trainable params: 61,470\n",
      "Non-trainable params: 0\n",
      "_________________________________________________________________\n"
     ]
    }
   ],
   "source": [
    "model = load_model('model.h5')\n",
    "model.summary()"
   ]
  },
  {
   "cell_type": "code",
   "execution_count": 3,
   "metadata": {},
   "outputs": [],
   "source": [
    "_,(x_test, y_test) = mnist.load_data()"
   ]
  },
  {
   "cell_type": "code",
   "execution_count": 4,
   "metadata": {},
   "outputs": [],
   "source": [
    "x_test = x_test.reshape(x_test.shape[0], 28, 28, 1)\n",
    "\n",
    "x_test = x_test / 255\n",
    "\n",
    "y_test = keras.utils.to_categorical(y_test, 10)"
   ]
  },
  {
   "cell_type": "code",
   "execution_count": 5,
   "metadata": {},
   "outputs": [
    {
     "name": "stdout",
     "output_type": "stream",
     "text": [
      "total keras run time=104.40285038948059 s\n",
      "correct number=9915\n"
     ]
    }
   ],
   "source": [
    "total_time = 0\n",
    "correct = 0\n",
    "for i in range(10000):\n",
    "    starttime=time.time()\n",
    "    score = model.evaluate(x_test[i:i+1,:,:,:], y_test[i:i+1,], verbose=2)\n",
    "    endtime=time.time()\n",
    "    tmp_time = endtime - starttime\n",
    "    total_time = total_time + tmp_time\n",
    "    correct = correct + score[1]\n",
    "print(\"total keras run time=%s s\"%(total_time))\n",
    "print(\"correct number=%d\"%correct)"
   ]
  },
  {
   "cell_type": "code",
   "execution_count": 7,
   "metadata": {},
   "outputs": [
    {
     "name": "stdout",
     "output_type": "stream",
     "text": [
      "once keras run time=30.962345361709595 s\n",
      "correct number=9915\n"
     ]
    }
   ],
   "source": [
    "starttime=time.time()\n",
    "score = model.evaluate(x_test, y_test, verbose=2)\n",
    "endtime=time.time()\n",
    "\n",
    "print(\"once keras run time=%s s\"%(endtime-starttime))\n",
    "print(\"correct number=%d\"%(10000*score[1]))"
   ]
  },
  {
   "cell_type": "code",
   "execution_count": null,
   "metadata": {},
   "outputs": [],
   "source": []
  }
 ],
 "metadata": {
  "kernelspec": {
   "display_name": "Python 3",
   "language": "python",
   "name": "python3"
  },
  "language_info": {
   "codemirror_mode": {
    "name": "ipython",
    "version": 3
   },
   "file_extension": ".py",
   "mimetype": "text/x-python",
   "name": "python",
   "nbconvert_exporter": "python",
   "pygments_lexer": "ipython3",
   "version": "3.6.5"
  }
 },
 "nbformat": 4,
 "nbformat_minor": 2
}
