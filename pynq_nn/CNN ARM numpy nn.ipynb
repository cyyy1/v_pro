{
 "cells": [
  {
   "cell_type": "code",
   "execution_count": 1,
   "metadata": {},
   "outputs": [],
   "source": [
    "import numpy as np\n",
    "import package\n",
    "import package.optim as optim\n",
    "import os\n",
    "import time"
   ]
  },
  {
   "cell_type": "code",
   "execution_count": 2,
   "metadata": {},
   "outputs": [],
   "source": [
    "def load_MNIST(file, transform=False):\n",
    "    file = np.load(file)\n",
    "    X = file['X']\n",
    "    Y = file['Y']\n",
    "    if transform:\n",
    "        X = X.reshape(len(X), -1)\n",
    "    return X, Y"
   ]
  },
  {
   "cell_type": "code",
   "execution_count": 3,
   "metadata": {},
   "outputs": [],
   "source": [
    "w0 = np.load('npweight0.npy')\n",
    "w1 = np.load('npweight1.npy')\n",
    "w2 = np.load('npweight2.npy')\n",
    "w3 = np.load('npweight3.npy')\n",
    "w4 = np.load('npweight4.npy')"
   ]
  },
  {
   "cell_type": "code",
   "execution_count": 4,
   "metadata": {},
   "outputs": [],
   "source": [
    "layers = [\n",
    "        {'type': 'conv', 'shape': (6, 5, 5, 1),'id':0, 'W':w0,'method':'SAME'},\n",
    "        {'type': 'relu'},\n",
    "        {'type': 'maxpool', 'size': 2},\n",
    "        {'type': 'conv', 'shape': (16, 5, 5, 6),'id':0, 'W':w1,'method':'VALID'},\n",
    "        {'type': 'relu'},\n",
    "        {'type': 'maxpool', 'size': 2},\n",
    "        {'type': 'transform', 'input_shape': (-1, 5, 5, 16), 'output_shape': (-1, 400)},\n",
    "        {'type': 'linear', 'shape': (400, 120),'id':2,'W':w2},\n",
    "        {'type': 'relu'},\n",
    "        {'type': 'linear', 'shape': (120, 84),'id':3,'W':w3},\n",
    "        {'type': 'relu'},\n",
    "        {'type': 'linear', 'shape': (84, 10),'id':4,'W':w4},\n",
    "    ]\n",
    "loss_fn = package.CrossEntropyLoss()\n",
    "net = package.Net(layers)\n",
    "optimizer = optim.Adam(net.parameters, 0.01)\n",
    "train_file = './MNIST/trainset.npz'\n",
    "param_file = './MNIST/testset.npz'\n",
    "batch_size = 128"
   ]
  },
  {
   "cell_type": "code",
   "execution_count": 6,
   "metadata": {},
   "outputs": [],
   "source": [
    "def train(net, loss_fn, train_file, batch_size, optimizer, load_file, save_as, times=1, retrain=False, transform=False):\n",
    "    total_time = 0\n",
    "    correct = 0\n",
    "    X, Y = load_MNIST(param_file, transform)\n",
    "    x = X / 255\n",
    "    print('begin predict')\n",
    "    print(x.shape)\n",
    "    print(Y.shape)\n",
    "    for i in range(10000):\n",
    "        start = time.time()\n",
    "        output = net.forward(x[i:i+1,:,:,])\n",
    "        batch_acc, batch_loss = loss_fn(output, Y[i:i+1,:])\n",
    "        #output = net.forward(x)\n",
    "        #batch_acc, batch_loss = loss_fn(output, Y)\n",
    "        end = time.time()\n",
    "        time_tmp = end - start\n",
    "        total_time = total_time + time_tmp\n",
    "        correct = correct + batch_acc\n",
    "    \n",
    "    print(\"total numppy nn run time=%s s\" % (total_time))\n",
    "    print('correct number=%d'%correct)\n",
    "    print('end')"
   ]
  },
  {
   "cell_type": "code",
   "execution_count": 7,
   "metadata": {},
   "outputs": [
    {
     "name": "stdout",
     "output_type": "stream",
     "text": [
      "begin predict\n",
      "(10000, 28, 28, 1)\n",
      "(10000, 10)\n",
      "total numppy nn run time=201.4380166530609 s\n",
      "correct number=9915\n",
      "end\n"
     ]
    }
   ],
   "source": [
    "train(net, loss_fn, train_file, batch_size, optimizer, param_file, param_file, times=1, retrain=True)"
   ]
  },
  {
   "cell_type": "code",
   "execution_count": 8,
   "metadata": {},
   "outputs": [],
   "source": [
    "def train2(net, loss_fn, train_file, batch_size, optimizer, load_file, save_as, times=1, retrain=False, transform=False):\n",
    "    total_time = 0\n",
    "    correct = 0\n",
    "    X, Y = load_MNIST(param_file, transform)\n",
    "    x = X / 255\n",
    "    print('begin predict')\n",
    "    print(x.shape)\n",
    "    print(Y.shape)\n",
    "    for i in range(4):\n",
    "        start = time.time()\n",
    "        output = net.forward(x[i*2500:(i+1)*2500,:,:,])\n",
    "        batch_acc, batch_loss = loss_fn(output, Y[i*2500:(i+1)*2500,:])\n",
    "        #output = net.forward(x)\n",
    "        #batch_acc, batch_loss = loss_fn(output, Y)\n",
    "        end = time.time()\n",
    "        time_tmp = end - start\n",
    "        total_time = total_time + time_tmp\n",
    "        correct = correct + batch_acc\n",
    "    \n",
    "    print(\"once numppy nn run time=%s s\" % (total_time))\n",
    "    print('correct number=%d'%correct)\n",
    "    print('end')"
   ]
  },
  {
   "cell_type": "code",
   "execution_count": 9,
   "metadata": {},
   "outputs": [
    {
     "name": "stdout",
     "output_type": "stream",
     "text": [
      "begin predict\n",
      "(10000, 28, 28, 1)\n",
      "(10000, 10)\n",
      "once numppy nn run time=321.4038815498352 s\n",
      "correct number=3\n",
      "end\n"
     ]
    }
   ],
   "source": [
    "train2(net, loss_fn, train_file, batch_size, optimizer, param_file, param_file, times=1, retrain=True)"
   ]
  },
  {
   "cell_type": "code",
   "execution_count": 12,
   "metadata": {},
   "outputs": [],
   "source": [
    "def train3(net, loss_fn, train_file, batch_size, optimizer, load_file, save_as, times=1, retrain=False, transform=False):\n",
    "    total_time = 0\n",
    "    correct = 0\n",
    "    X, Y = load_MNIST(param_file, transform)\n",
    "    x = X / 255\n",
    "    print('begin predict')\n",
    "    print(x.shape)\n",
    "    print(Y.shape)\n",
    "    for i in range(2):\n",
    "        start = time.time()\n",
    "        output = net.forward(x[i*5000:(i+1)*5000,:,:,])\n",
    "        batch_acc, batch_loss = loss_fn(output, Y[i*5000:(i+1)*5000,:])\n",
    "        #output = net.forward(x)\n",
    "        #batch_acc, batch_loss = loss_fn(output, Y)\n",
    "        end = time.time()\n",
    "        time_tmp = end - start\n",
    "        total_time = total_time + time_tmp\n",
    "        correct = correct + batch_acc*5000\n",
    "    \n",
    "    print(\"once numppy nn run time=%s s\" % (total_time))\n",
    "    print('correct number=%d'%correct)\n",
    "    print('end')"
   ]
  },
  {
   "cell_type": "code",
   "execution_count": 10,
   "metadata": {},
   "outputs": [],
   "source": [
    "import random\n",
    "def train4(net, loss_fn, train_file, batch_size, optimizer, load_file, save_as, times=1, retrain=False, transform=False):\n",
    "    total_time = 0\n",
    "    correct = 0\n",
    "    X, Y = load_MNIST(param_file, transform)\n",
    "    x = X / 255\n",
    "    print('begin predict')\n",
    "    print(x.shape)\n",
    "    print(Y.shape)\n",
    "    start = time.time()\n",
    "    i = random.randint(0,19999)\n",
    "    output = net.forward(x[i:i+1,:,:,])\n",
    "    batch_acc, batch_loss = loss_fn(output, Y[i:i+1,:])\n",
    "        #output = net.forward(x)\n",
    "        #batch_acc, batch_loss = loss_fn(output, Y)\n",
    "    end = time.time()\n",
    "    time_tmp = end - start\n",
    "    total_time = total_time + time_tmp\n",
    "    \n",
    "    print(\"once numppy nn run time=%s s\" % (total_time))\n",
    "    print('acc=',batch_acc)\n",
    "    print('end')"
   ]
  },
  {
   "cell_type": "code",
   "execution_count": 11,
   "metadata": {},
   "outputs": [
    {
     "name": "stdout",
     "output_type": "stream",
     "text": [
      "begin predict\n",
      "(10000, 28, 28, 1)\n",
      "(10000, 10)\n",
      "once numppy nn run time=0.024377822875976562 s\n",
      "acc= 1.0\n",
      "end\n"
     ]
    }
   ],
   "source": [
    "train4(net, loss_fn, train_file, batch_size, optimizer, param_file, param_file, times=1, retrain=True)"
   ]
  },
  {
   "cell_type": "code",
   "execution_count": 12,
   "metadata": {},
   "outputs": [
    {
     "name": "stdout",
     "output_type": "stream",
     "text": [
      "begin predict\n",
      "(10000, 28, 28, 1)\n",
      "(10000, 10)\n",
      "once numppy nn run time=0.02583789825439453 s\n",
      "acc= 1.0\n",
      "end\n"
     ]
    }
   ],
   "source": [
    "train4(net, loss_fn, train_file, batch_size, optimizer, param_file, param_file, times=1, retrain=True)"
   ]
  },
  {
   "cell_type": "code",
   "execution_count": 14,
   "metadata": {},
   "outputs": [
    {
     "name": "stdout",
     "output_type": "stream",
     "text": [
      "begin predict\n",
      "(10000, 28, 28, 1)\n",
      "(10000, 10)\n",
      "once numppy nn run time=0.023764610290527344 s\n",
      "acc= 1.0\n",
      "end\n"
     ]
    }
   ],
   "source": [
    "train4(net, loss_fn, train_file, batch_size, optimizer, param_file, param_file, times=1, retrain=True)"
   ]
  },
  {
   "cell_type": "code",
   "execution_count": null,
   "metadata": {},
   "outputs": [],
   "source": []
  }
 ],
 "metadata": {
  "kernelspec": {
   "display_name": "Python 3",
   "language": "python",
   "name": "python3"
  },
  "language_info": {
   "codemirror_mode": {
    "name": "ipython",
    "version": 3
   },
   "file_extension": ".py",
   "mimetype": "text/x-python",
   "name": "python",
   "nbconvert_exporter": "python",
   "pygments_lexer": "ipython3",
   "version": "3.6.5"
  }
 },
 "nbformat": 4,
 "nbformat_minor": 2
}
